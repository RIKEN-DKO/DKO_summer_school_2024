{
 "cells": [
  {
   "cell_type": "code",
   "execution_count": 3,
   "id": "ab116b6b",
   "metadata": {},
   "outputs": [
    {
     "name": "stdout",
     "output_type": "stream",
     "text": [
      "Transformed data saved to train_data_2.jsonl\n"
     ]
    }
   ],
   "source": [
    "import json\n",
    "\n",
    "# Paths to the input and output files\n",
    "input_file = 'train_data.json'   # Assuming it's a regular JSON file\n",
    "output_file = 'train_data_2.jsonl' # Desired output JSONL file path\n",
    "\n",
    "# Read the original JSON data from the input file\n",
    "with open(input_file, 'r') as f:\n",
    "    data_list = json.load(f)  # Load the whole JSON file as a list of objects\n",
    "\n",
    "# Prepare the output in JSONL format\n",
    "with open(output_file, 'w') as f_out:\n",
    "    for data in data_list:  # Iterate over each JSON object in the list\n",
    "        # Transform the data into the new format\n",
    "        new_format = {\n",
    "            \"messages\": [\n",
    "                {\"role\": \"system\", \"content\": \"You are an expert in RDF databases and SPARQL queries.\"},\n",
    "                {\"role\": \"user\", \"content\": f\"Please provide a SPARQL query that would answer the following question: {data['question']}\"},\n",
    "                {\"role\": \"assistant\", \"content\": data[\"sparql\"]}\n",
    "            ]\n",
    "        }\n",
    "\n",
    "        # Write the transformed data as a new line in the output JSONL file\n",
    "        f_out.write(json.dumps(new_format) + '\\n')\n",
    "\n",
    "print(f\"Transformed data saved to {output_file}\")\n"
   ]
  },
  {
   "cell_type": "code",
   "execution_count": null,
   "id": "3eba95c5",
   "metadata": {},
   "outputs": [],
   "source": []
  }
 ],
 "metadata": {
  "kernelspec": {
   "display_name": "Python 3 (ipykernel)",
   "language": "python",
   "name": "python3"
  },
  "language_info": {
   "codemirror_mode": {
    "name": "ipython",
    "version": 3
   },
   "file_extension": ".py",
   "mimetype": "text/x-python",
   "name": "python",
   "nbconvert_exporter": "python",
   "pygments_lexer": "ipython3",
   "version": "3.9.13"
  }
 },
 "nbformat": 4,
 "nbformat_minor": 5
}
